{
  "nbformat": 4,
  "nbformat_minor": 0,
  "metadata": {
    "colab": {
      "provenance": []
    },
    "kernelspec": {
      "name": "python3",
      "display_name": "Python 3"
    },
    "language_info": {
      "name": "python"
    }
  },
  "cells": [
    {
      "cell_type": "code",
      "source": [
        "!pip install pytube"
      ],
      "metadata": {
        "colab": {
          "base_uri": "https://localhost:8080/"
        },
        "id": "gatPdwwR5zuf",
        "outputId": "d02b0e01-ba04-43e3-9471-f522719e0a30"
      },
      "execution_count": null,
      "outputs": [
        {
          "output_type": "stream",
          "name": "stdout",
          "text": [
            "Collecting pytube\n",
            "  Downloading pytube-15.0.0-py3-none-any.whl (57 kB)\n",
            "\u001b[?25l     \u001b[90m━━━━━━━━━━━━━━━━━━━━━━━━━━━━━━━━━━━━━━━━\u001b[0m \u001b[32m0.0/57.6 kB\u001b[0m \u001b[31m?\u001b[0m eta \u001b[36m-:--:--\u001b[0m\r\u001b[2K     \u001b[90m━━━━━━━━━━━━━━━━━━━━━━━━━━━━━━━━━━━━━━━━\u001b[0m \u001b[32m57.6/57.6 kB\u001b[0m \u001b[31m2.5 MB/s\u001b[0m eta \u001b[36m0:00:00\u001b[0m\n",
            "\u001b[?25hInstalling collected packages: pytube\n",
            "Successfully installed pytube-15.0.0\n"
          ]
        }
      ]
    },
    {
      "cell_type": "code",
      "execution_count": null,
      "metadata": {
        "colab": {
          "base_uri": "https://localhost:8080/"
        },
        "id": "munfFUgX5tc4",
        "outputId": "4b82f201-e3e0-4ca6-8e13-0b623e8f44b9"
      },
      "outputs": [
        {
          "name": "stdout",
          "output_type": "stream",
          "text": [
            "Enter the YouTube URL: https://www.youtube.com/watch?v=mY8Ou7r913Y&t=1354s\n"
          ]
        },
        {
          "output_type": "stream",
          "name": "stderr",
          "text": [
            "WARNING:py.warnings:<ipython-input-8-2fe5dec518ba>:7: DeprecationWarning: Call to deprecated function all (This object can be treated as a list, all() is useless).\n",
            "  video_streams = yt.streams.filter(progressive=False, only_video=True).all()\n",
            "\n",
            "WARNING:py.warnings:<ipython-input-8-2fe5dec518ba>:8: DeprecationWarning: Call to deprecated function all (This object can be treated as a list, all() is useless).\n",
            "  audio_streams = yt.streams.filter(only_audio=True).all()\n",
            "\n"
          ]
        },
        {
          "output_type": "stream",
          "name": "stdout",
          "text": [
            "Available video qualities:\n",
            "1. 1080p avc1.640028\n",
            "2. 1080p vp9\n",
            "3. 720p avc1.64001f\n",
            "4. 720p vp9\n",
            "5. 480p avc1.4d401e\n",
            "6. 480p vp9\n",
            "7. 360p avc1.4d401e\n",
            "8. 360p vp9\n",
            "9. 240p avc1.4d4015\n",
            "10. 240p vp9\n",
            "11. 144p avc1.4d400c\n",
            "12. 144p vp9\n",
            "Select video quality (number): 1\n",
            "Do you want to download audio as well? (yes/no): yes\n",
            "Available audio qualities:\n",
            "1. 48kbps\n",
            "2. 128kbps\n",
            "3. 50kbps\n",
            "4. 70kbps\n",
            "5. 160kbps\n",
            "Select audio quality (number): 5\n",
            "Enter the path to save the video: /content/drive/MyDrive\n",
            "Downloading video: <Stream: itag=\"137\" mime_type=\"video/mp4\" res=\"1080p\" fps=\"25fps\" vcodec=\"avc1.640028\" progressive=\"False\" type=\"video\">\n",
            "Downloading audio: <Stream: itag=\"251\" mime_type=\"audio/webm\" abr=\"160kbps\" acodec=\"opus\" progressive=\"False\" type=\"audio\">\n",
            "Download complete\n"
          ]
        }
      ],
      "source": [
        "from pytube import YouTube\n",
        "import os\n",
        "\n",
        "def fetch_streams(url):\n",
        "    try:\n",
        "        yt = YouTube(url)\n",
        "        video_streams = yt.streams.filter(progressive=False, only_video=True).all()\n",
        "        audio_streams = yt.streams.filter(only_audio=True).all()\n",
        "\n",
        "        video_qualities = [f\"{stream.resolution} {stream.video_codec}\" for stream in video_streams]\n",
        "        audio_qualities = [stream.abr for stream in audio_streams]\n",
        "\n",
        "        return yt, video_qualities, audio_qualities\n",
        "    except Exception as e:\n",
        "        print(f\"Error: {str(e)}\")\n",
        "        return None, None, None\n",
        "\n",
        "def download_video(yt, video_quality, audio_quality, save_path):\n",
        "    res, cod = video_quality.strip().split(maxsplit=1)\n",
        "\n",
        "    stream = yt.streams.filter(res=res, video_codec=cod, progressive=False).first()\n",
        "    if not stream:\n",
        "        print(\"Error: Selected video quality not available\")\n",
        "        return\n",
        "\n",
        "    print(f\"Downloading video: {stream}\")\n",
        "    stream.download(output_path=save_path)\n",
        "\n",
        "    if audio_quality:\n",
        "        audio_stream = yt.streams.filter(abr=audio_quality).first()\n",
        "        if audio_stream:\n",
        "            print(f\"Downloading audio: {audio_stream}\")\n",
        "            audio_stream.download(output_path=save_path)\n",
        "    print(\"Download complete\")\n",
        "\n",
        "def main():\n",
        "    url = input(\"Enter the YouTube URL: \")\n",
        "    yt, video_qualities, audio_qualities = fetch_streams(url)\n",
        "\n",
        "    if yt is None:\n",
        "        return\n",
        "\n",
        "    print(\"Available video qualities:\")\n",
        "    for i, quality in enumerate(video_qualities):\n",
        "        print(f\"{i + 1}. {quality}\")\n",
        "\n",
        "    video_choice = int(input(\"Select video quality (number): \")) - 1\n",
        "    video_quality = video_qualities[video_choice]\n",
        "\n",
        "    download_audio = input(\"Do you want to download audio as well? (y/n): \").strip().lower() == 'y'\n",
        "    audio_quality = None\n",
        "\n",
        "    if download_audio:\n",
        "        print(\"Available audio qualities:\")\n",
        "        for i, quality in enumerate(audio_qualities):\n",
        "            print(f\"{i + 1}. {quality}\")\n",
        "\n",
        "        audio_choice = int(input(\"Select audio quality (number): \")) - 1\n",
        "        audio_quality = audio_qualities[audio_choice]\n",
        "\n",
        "    save_path = input(\"Enter the path to save the video: \")\n",
        "    if not os.path.exists(save_path):\n",
        "        os.makedirs(save_path)\n",
        "\n",
        "    download_video(yt, video_quality, audio_quality, save_path)\n",
        "\n",
        "if __name__ == \"__main__\":\n",
        "    main()\n"
      ]
    }
  ]
}